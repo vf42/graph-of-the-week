{
 "cells": [
  {
   "cell_type": "markdown",
   "metadata": {},
   "source": [
    "This week we'll explore the relationship between the average gross salary and the CPI in Latvia."
   ]
  },
  {
   "cell_type": "code",
   "execution_count": 1,
   "metadata": {},
   "outputs": [],
   "source": [
    "from datetime import date\n",
    "\n",
    "from pycspwrapper import LVStat\n",
    "from matplotlib import pyplot as plt\n",
    "import polars as pl\n",
    "\n",
    "%matplotlib inline"
   ]
  },
  {
   "cell_type": "markdown",
   "metadata": {},
   "source": [
    "# Load the data\n",
    "\n",
    "We're interested in two CSP tables:\n",
    "1. Monthly average salary - https://data.stat.gov.lv/pxweb/lv/OSP_PUB/START__EMP__DS__DSV/DSV010m\n",
    "2. CPI - https://data.stat.gov.lv/pxweb/lv/OSP_PUB/START__VEK__PC__PCI/PCI020m\n",
    "\n",
    "At the time of writing, the latest available data for DSV010m is December 2023, so let's look at the 5 year period, January 2019 - December 2023."
   ]
  },
  {
   "cell_type": "code",
   "execution_count": 2,
   "metadata": {},
   "outputs": [],
   "source": [
    "def data_to_df(data):\n",
    "    '''Transform the data returned by CSP API into a dataframe.'''\n",
    "    key_cols = []\n",
    "    val_cols = []\n",
    "    column_values = {}\n",
    "    for col in data['columns']:\n",
    "        if col['type'] == 'c':\n",
    "            val_cols.append(col['code'])\n",
    "        else:\n",
    "            key_cols.append(col['code'])\n",
    "        column_values[col['code']] = []\n",
    "    for row in data['data']:\n",
    "        for col, value in zip(key_cols, row['key']):\n",
    "            if col == \"TIME\":\n",
    "                # Transform time values to date.\n",
    "                if len(value) == 4:\n",
    "                    value = date(int(value), 1, 1)\n",
    "                elif value[4] == 'M':\n",
    "                    split_time = value.split('M', 1)\n",
    "                    value = date(int(split_time[0]), int(split_time[1]), 1)\n",
    "            column_values[col].append(value)\n",
    "        for col, value in zip(val_cols, row['values']):\n",
    "            if value == '…':\n",
    "                # Missing value.\n",
    "                column_values[col].append(None)\n",
    "            else:\n",
    "                column_values[col].append(float(value))\n",
    "    series = map(\n",
    "        lambda kv: pl.Series(kv[0], kv[1]),\n",
    "        column_values.items()\n",
    "    )\n",
    "    return pl.DataFrame(series)"
   ]
  },
  {
   "cell_type": "code",
   "execution_count": 3,
   "metadata": {},
   "outputs": [
    {
     "data": {
      "text/plain": [
       "{'columns': [{'code': 'GRS_NET', 'text': 'Bruto/ Neto', 'type': 'd'},\n",
       "  {'code': 'SECTOR', 'text': 'Sektors', 'type': 'd'},\n",
       "  {'code': 'TIME', 'text': 'Laika periods', 'type': 't'},\n",
       "  {'code': 'Strādājošo mēneša vidējā darba samaksa (eiro)',\n",
       "   'text': 'Strādājošo mēneša vidējā darba samaksa (eiro)',\n",
       "   'type': 'c'}],\n",
       " 'comments': [],\n",
       " 'data': [{'key': ['GRS', 'TOTAL', '2019M01'], 'values': ['1029']},\n",
       "  {'key': ['GRS', 'TOTAL', '2019M02'], 'values': ['1007']},\n",
       "  {'key': ['GRS', 'TOTAL', '2019M03'], 'values': ['1060']},\n",
       "  {'key': ['GRS', 'TOTAL', '2019M04'], 'values': ['1075']},\n",
       "  {'key': ['GRS', 'TOTAL', '2019M05'], 'values': ['1078']},\n",
       "  {'key': ['GRS', 'TOTAL', '2019M06'], 'values': ['1074']},\n",
       "  {'key': ['GRS', 'TOTAL', '2019M07'], 'values': ['1111']},\n",
       "  {'key': ['GRS', 'TOTAL', '2019M08'], 'values': ['1079']},\n",
       "  {'key': ['GRS', 'TOTAL', '2019M09'], 'values': ['1059']},\n",
       "  {'key': ['GRS', 'TOTAL', '2019M10'], 'values': ['1089']},\n",
       "  {'key': ['GRS', 'TOTAL', '2019M11'], 'values': ['1101']},\n",
       "  {'key': ['GRS', 'TOTAL', '2019M12'], 'values': ['1152']},\n",
       "  {'key': ['GRS', 'TOTAL', '2020M01'], 'values': ['1104']},\n",
       "  {'key': ['GRS', 'TOTAL', '2020M02'], 'values': ['1084']},\n",
       "  {'key': ['GRS', 'TOTAL', '2020M03'], 'values': ['1117']},\n",
       "  {'key': ['GRS', 'TOTAL', '2020M04'], 'values': ['1121']},\n",
       "  {'key': ['GRS', 'TOTAL', '2020M05'], 'values': ['1107']},\n",
       "  {'key': ['GRS', 'TOTAL', '2020M06'], 'values': ['1139']},\n",
       "  {'key': ['GRS', 'TOTAL', '2020M07'], 'values': ['1186']},\n",
       "  {'key': ['GRS', 'TOTAL', '2020M08'], 'values': ['1147']},\n",
       "  {'key': ['GRS', 'TOTAL', '2020M09'], 'values': ['1143']},\n",
       "  {'key': ['GRS', 'TOTAL', '2020M10'], 'values': ['1149']},\n",
       "  {'key': ['GRS', 'TOTAL', '2020M11'], 'values': ['1166']},\n",
       "  {'key': ['GRS', 'TOTAL', '2020M12'], 'values': ['1249']},\n",
       "  {'key': ['GRS', 'TOTAL', '2021M01'], 'values': ['1191']},\n",
       "  {'key': ['GRS', 'TOTAL', '2021M02'], 'values': ['1189']},\n",
       "  {'key': ['GRS', 'TOTAL', '2021M03'], 'values': ['1259']},\n",
       "  {'key': ['GRS', 'TOTAL', '2021M04'], 'values': ['1248']},\n",
       "  {'key': ['GRS', 'TOTAL', '2021M05'], 'values': ['1245']},\n",
       "  {'key': ['GRS', 'TOTAL', '2021M06'], 'values': ['1279']},\n",
       "  {'key': ['GRS', 'TOTAL', '2021M07'], 'values': ['1322']},\n",
       "  {'key': ['GRS', 'TOTAL', '2021M08'], 'values': ['1303']},\n",
       "  {'key': ['GRS', 'TOTAL', '2021M09'], 'values': ['1283']},\n",
       "  {'key': ['GRS', 'TOTAL', '2021M10'], 'values': ['1273']},\n",
       "  {'key': ['GRS', 'TOTAL', '2021M11'], 'values': ['1301']},\n",
       "  {'key': ['GRS', 'TOTAL', '2021M12'], 'values': ['1435']},\n",
       "  {'key': ['GRS', 'TOTAL', '2022M01'], 'values': ['1278']},\n",
       "  {'key': ['GRS', 'TOTAL', '2022M02'], 'values': ['1245']},\n",
       "  {'key': ['GRS', 'TOTAL', '2022M03'], 'values': ['1382']},\n",
       "  {'key': ['GRS', 'TOTAL', '2022M04'], 'values': ['1343']},\n",
       "  {'key': ['GRS', 'TOTAL', '2022M05'], 'values': ['1360']},\n",
       "  {'key': ['GRS', 'TOTAL', '2022M06'], 'values': ['1382']},\n",
       "  {'key': ['GRS', 'TOTAL', '2022M07'], 'values': ['1380']},\n",
       "  {'key': ['GRS', 'TOTAL', '2022M08'], 'values': ['1404']},\n",
       "  {'key': ['GRS', 'TOTAL', '2022M09'], 'values': ['1371']},\n",
       "  {'key': ['GRS', 'TOTAL', '2022M10'], 'values': ['1375']},\n",
       "  {'key': ['GRS', 'TOTAL', '2022M11'], 'values': ['1413']},\n",
       "  {'key': ['GRS', 'TOTAL', '2022M12'], 'values': ['1540']},\n",
       "  {'key': ['GRS', 'TOTAL', '2023M01'], 'values': ['1435']},\n",
       "  {'key': ['GRS', 'TOTAL', '2023M02'], 'values': ['1426']},\n",
       "  {'key': ['GRS', 'TOTAL', '2023M03'], 'values': ['1525']},\n",
       "  {'key': ['GRS', 'TOTAL', '2023M04'], 'values': ['1482']},\n",
       "  {'key': ['GRS', 'TOTAL', '2023M05'], 'values': ['1548']},\n",
       "  {'key': ['GRS', 'TOTAL', '2023M06'], 'values': ['1545']},\n",
       "  {'key': ['GRS', 'TOTAL', '2023M07'], 'values': ['1538']},\n",
       "  {'key': ['GRS', 'TOTAL', '2023M08'], 'values': ['1578']},\n",
       "  {'key': ['GRS', 'TOTAL', '2023M09'], 'values': ['1530']},\n",
       "  {'key': ['GRS', 'TOTAL', '2023M10'], 'values': ['1558']},\n",
       "  {'key': ['GRS', 'TOTAL', '2023M11'], 'values': ['1581']},\n",
       "  {'key': ['GRS', 'TOTAL', '2023M12'], 'values': ['1692']}],\n",
       " 'metadata': [{'infofile': '001',\n",
       "   'updated': '2024-04-18T15:23:00Z',\n",
       "   'label': 'Strādājošo mēneša vidējā darba samaksa (eiro) – Bruto/ Neto, Sektors un Laika periods',\n",
       "   'source': 'Centrālā statistikas pārvalde'}]}"
      ]
     },
     "execution_count": 3,
     "metadata": {},
     "output_type": "execute_result"
    }
   ],
   "source": [
    "START_YEAR = 2019\n",
    "END_YEAR = 2024\n",
    "\n",
    "time_query = [\n",
    "    f'{y}M{m:02d}' for y in range(START_YEAR, END_YEAR) for m in range(1, 13)]\n",
    "\n",
    "# Query the DSV010m table.\n",
    "stat_salary = LVStat('lv', 'EMP', 'DS', 'DSV', 'DSV010m')\n",
    "stat_salary.set_query(\n",
    "    ContentsCode=[\"DSV010m\"],  # EUR values\n",
    "    GRS_NET=[\"GRS\"],  # Gross salaries\n",
    "    SECTOR=[\"TOTAL\"],\n",
    "    # Load one extra month to calculate differences later.\n",
    "    TIME=time_query\n",
    ")\n",
    "salary_data_json = stat_salary.get_data()\n",
    "salary_data_json"
   ]
  },
  {
   "cell_type": "code",
   "execution_count": 4,
   "metadata": {},
   "outputs": [
    {
     "data": {
      "text/plain": [
       "{'columns': [{'code': 'ECOICOP',\n",
       "   'text': 'Grupas un apakšgrupas (ECOICOP)',\n",
       "   'type': 'd'},\n",
       "  {'code': 'TIME', 'text': 'Laika periods', 'type': 't'},\n",
       "  {'code': 'Patēriņa cenu indeksi grupās un apakšgrupās (2015.gads=100)',\n",
       "   'text': 'Patēriņa cenu indeksi grupās un apakšgrupās (2015.gads=100)',\n",
       "   'type': 'c'}],\n",
       " 'comments': [],\n",
       " 'data': [{'key': ['00', '2019M01'], 'values': ['106.9']},\n",
       "  {'key': ['00', '2019M02'], 'values': ['107.0']},\n",
       "  {'key': ['00', '2019M03'], 'values': ['108.2']},\n",
       "  {'key': ['00', '2019M04'], 'values': ['109.1']},\n",
       "  {'key': ['00', '2019M05'], 'values': ['109.3']},\n",
       "  {'key': ['00', '2019M06'], 'values': ['109.7']},\n",
       "  {'key': ['00', '2019M07'], 'values': ['108.7']},\n",
       "  {'key': ['00', '2019M08'], 'values': ['108.9']},\n",
       "  {'key': ['00', '2019M09'], 'values': ['108.9']},\n",
       "  {'key': ['00', '2019M10'], 'values': ['109.3']},\n",
       "  {'key': ['00', '2019M11'], 'values': ['109.1']},\n",
       "  {'key': ['00', '2019M12'], 'values': ['108.8']},\n",
       "  {'key': ['00', '2020M01'], 'values': ['109.2']},\n",
       "  {'key': ['00', '2020M02'], 'values': ['109.4']},\n",
       "  {'key': ['00', '2020M03'], 'values': ['109.7']},\n",
       "  {'key': ['00', '2020M04'], 'values': ['109.1']},\n",
       "  {'key': ['00', '2020M05'], 'values': ['108.7']},\n",
       "  {'key': ['00', '2020M06'], 'values': ['108.9']},\n",
       "  {'key': ['00', '2020M07'], 'values': ['109.2']},\n",
       "  {'key': ['00', '2020M08'], 'values': ['108.6']},\n",
       "  {'key': ['00', '2020M09'], 'values': ['108.7']},\n",
       "  {'key': ['00', '2020M10'], 'values': ['108.6']},\n",
       "  {'key': ['00', '2020M11'], 'values': ['108.3']},\n",
       "  {'key': ['00', '2020M12'], 'values': ['108.3']},\n",
       "  {'key': ['00', '2021M01'], 'values': ['108.7']},\n",
       "  {'key': ['00', '2021M02'], 'values': ['109.2']},\n",
       "  {'key': ['00', '2021M03'], 'values': ['110.0']},\n",
       "  {'key': ['00', '2021M04'], 'values': ['111.0']},\n",
       "  {'key': ['00', '2021M05'], 'values': ['111.5']},\n",
       "  {'key': ['00', '2021M06'], 'values': ['111.9']},\n",
       "  {'key': ['00', '2021M07'], 'values': ['112.3']},\n",
       "  {'key': ['00', '2021M08'], 'values': ['112.7']},\n",
       "  {'key': ['00', '2021M09'], 'values': ['113.9']},\n",
       "  {'key': ['00', '2021M10'], 'values': ['115.2']},\n",
       "  {'key': ['00', '2021M11'], 'values': ['116.4']},\n",
       "  {'key': ['00', '2021M12'], 'values': ['116.8']},\n",
       "  {'key': ['00', '2022M01'], 'values': ['116.8']},\n",
       "  {'key': ['00', '2022M02'], 'values': ['118.7']},\n",
       "  {'key': ['00', '2022M03'], 'values': ['122.7']},\n",
       "  {'key': ['00', '2022M04'], 'values': ['125.4']},\n",
       "  {'key': ['00', '2022M05'], 'values': ['130.3']},\n",
       "  {'key': ['00', '2022M06'], 'values': ['133.5']},\n",
       "  {'key': ['00', '2022M07'], 'values': ['136.4']},\n",
       "  {'key': ['00', '2022M08'], 'values': ['137.0']},\n",
       "  {'key': ['00', '2022M09'], 'values': ['139.1']},\n",
       "  {'key': ['00', '2022M10'], 'values': ['140.2']},\n",
       "  {'key': ['00', '2022M11'], 'values': ['141.8']},\n",
       "  {'key': ['00', '2022M12'], 'values': ['141.2']},\n",
       "  {'key': ['00', '2023M01'], 'values': ['141.9']},\n",
       "  {'key': ['00', '2023M02'], 'values': ['142.8']},\n",
       "  {'key': ['00', '2023M03'], 'values': ['143.8']},\n",
       "  {'key': ['00', '2023M04'], 'values': ['144.3']},\n",
       "  {'key': ['00', '2023M05'], 'values': ['146.1']},\n",
       "  {'key': ['00', '2023M06'], 'values': ['144.1']},\n",
       "  {'key': ['00', '2023M07'], 'values': ['145.2']},\n",
       "  {'key': ['00', '2023M08'], 'values': ['144.3']},\n",
       "  {'key': ['00', '2023M09'], 'values': ['143.8']},\n",
       "  {'key': ['00', '2023M10'], 'values': ['143.2']},\n",
       "  {'key': ['00', '2023M11'], 'values': ['143.2']},\n",
       "  {'key': ['00', '2023M12'], 'values': ['142.1']}],\n",
       " 'metadata': [{'infofile': '001',\n",
       "   'updated': '2024-04-18T15:23:00Z',\n",
       "   'label': 'Patēriņa cenu indeksi grupās un apakšgrupās (2015.gads=100) – Grupas un apakšgrupas (ECOICOP) un Laika periods',\n",
       "   'source': 'Centrālā statistikas pārvalde'}]}"
      ]
     },
     "execution_count": 4,
     "metadata": {},
     "output_type": "execute_result"
    }
   ],
   "source": [
    "# Query the DSV010m table.\n",
    "stat_cpi = LVStat('lv', 'VEK', 'PC', 'PCI', 'PCI020m')\n",
    "stat_cpi.set_query(\n",
    "    ContentsCode=[\"PCI020m3\"],  # 2015=100 Index\n",
    "    ECOICOP=[\"00\"],  # All goods\n",
    "    TIME=time_query\n",
    ")\n",
    "cpi_data_json = stat_cpi.get_data()\n",
    "cpi_data_json"
   ]
  },
  {
   "cell_type": "markdown",
   "metadata": {},
   "source": [
    "## Merge data into a single dataframe."
   ]
  },
  {
   "cell_type": "code",
   "execution_count": 5,
   "metadata": {},
   "outputs": [
    {
     "data": {
      "text/html": [
       "<div><style>\n",
       ".dataframe > thead > tr,\n",
       ".dataframe > tbody > tr {\n",
       "  text-align: right;\n",
       "  white-space: pre-wrap;\n",
       "}\n",
       "</style>\n",
       "<small>shape: (60, 4)</small><table border=\"1\" class=\"dataframe\"><thead><tr><th>GRS_NET</th><th>SECTOR</th><th>TIME</th><th>Strādājošo mēneša vidējā darba samaksa (eiro)</th></tr><tr><td>str</td><td>str</td><td>date</td><td>f64</td></tr></thead><tbody><tr><td>&quot;GRS&quot;</td><td>&quot;TOTAL&quot;</td><td>2019-01-01</td><td>1029.0</td></tr><tr><td>&quot;GRS&quot;</td><td>&quot;TOTAL&quot;</td><td>2019-02-01</td><td>1007.0</td></tr><tr><td>&quot;GRS&quot;</td><td>&quot;TOTAL&quot;</td><td>2019-03-01</td><td>1060.0</td></tr><tr><td>&quot;GRS&quot;</td><td>&quot;TOTAL&quot;</td><td>2019-04-01</td><td>1075.0</td></tr><tr><td>&quot;GRS&quot;</td><td>&quot;TOTAL&quot;</td><td>2019-05-01</td><td>1078.0</td></tr><tr><td>&hellip;</td><td>&hellip;</td><td>&hellip;</td><td>&hellip;</td></tr><tr><td>&quot;GRS&quot;</td><td>&quot;TOTAL&quot;</td><td>2023-08-01</td><td>1578.0</td></tr><tr><td>&quot;GRS&quot;</td><td>&quot;TOTAL&quot;</td><td>2023-09-01</td><td>1530.0</td></tr><tr><td>&quot;GRS&quot;</td><td>&quot;TOTAL&quot;</td><td>2023-10-01</td><td>1558.0</td></tr><tr><td>&quot;GRS&quot;</td><td>&quot;TOTAL&quot;</td><td>2023-11-01</td><td>1581.0</td></tr><tr><td>&quot;GRS&quot;</td><td>&quot;TOTAL&quot;</td><td>2023-12-01</td><td>1692.0</td></tr></tbody></table></div>"
      ],
      "text/plain": [
       "shape: (60, 4)\n",
       "┌─────────┬────────┬────────────┬───────────────────────────────────┐\n",
       "│ GRS_NET ┆ SECTOR ┆ TIME       ┆ Strādājošo mēneša vidējā darba s… │\n",
       "│ ---     ┆ ---    ┆ ---        ┆ ---                               │\n",
       "│ str     ┆ str    ┆ date       ┆ f64                               │\n",
       "╞═════════╪════════╪════════════╪═══════════════════════════════════╡\n",
       "│ GRS     ┆ TOTAL  ┆ 2019-01-01 ┆ 1029.0                            │\n",
       "│ GRS     ┆ TOTAL  ┆ 2019-02-01 ┆ 1007.0                            │\n",
       "│ GRS     ┆ TOTAL  ┆ 2019-03-01 ┆ 1060.0                            │\n",
       "│ GRS     ┆ TOTAL  ┆ 2019-04-01 ┆ 1075.0                            │\n",
       "│ GRS     ┆ TOTAL  ┆ 2019-05-01 ┆ 1078.0                            │\n",
       "│ …       ┆ …      ┆ …          ┆ …                                 │\n",
       "│ GRS     ┆ TOTAL  ┆ 2023-08-01 ┆ 1578.0                            │\n",
       "│ GRS     ┆ TOTAL  ┆ 2023-09-01 ┆ 1530.0                            │\n",
       "│ GRS     ┆ TOTAL  ┆ 2023-10-01 ┆ 1558.0                            │\n",
       "│ GRS     ┆ TOTAL  ┆ 2023-11-01 ┆ 1581.0                            │\n",
       "│ GRS     ┆ TOTAL  ┆ 2023-12-01 ┆ 1692.0                            │\n",
       "└─────────┴────────┴────────────┴───────────────────────────────────┘"
      ]
     },
     "execution_count": 5,
     "metadata": {},
     "output_type": "execute_result"
    }
   ],
   "source": [
    "salary_df = data_to_df(salary_data_json)\n",
    "salary_df"
   ]
  },
  {
   "cell_type": "code",
   "execution_count": 6,
   "metadata": {},
   "outputs": [
    {
     "data": {
      "text/html": [
       "<div><style>\n",
       ".dataframe > thead > tr,\n",
       ".dataframe > tbody > tr {\n",
       "  text-align: right;\n",
       "  white-space: pre-wrap;\n",
       "}\n",
       "</style>\n",
       "<small>shape: (60, 2)</small><table border=\"1\" class=\"dataframe\"><thead><tr><th>TIME</th><th>salary</th></tr><tr><td>date</td><td>f64</td></tr></thead><tbody><tr><td>2019-01-01</td><td>1029.0</td></tr><tr><td>2019-02-01</td><td>1007.0</td></tr><tr><td>2019-03-01</td><td>1060.0</td></tr><tr><td>2019-04-01</td><td>1075.0</td></tr><tr><td>2019-05-01</td><td>1078.0</td></tr><tr><td>&hellip;</td><td>&hellip;</td></tr><tr><td>2023-08-01</td><td>1578.0</td></tr><tr><td>2023-09-01</td><td>1530.0</td></tr><tr><td>2023-10-01</td><td>1558.0</td></tr><tr><td>2023-11-01</td><td>1581.0</td></tr><tr><td>2023-12-01</td><td>1692.0</td></tr></tbody></table></div>"
      ],
      "text/plain": [
       "shape: (60, 2)\n",
       "┌────────────┬────────┐\n",
       "│ TIME       ┆ salary │\n",
       "│ ---        ┆ ---    │\n",
       "│ date       ┆ f64    │\n",
       "╞════════════╪════════╡\n",
       "│ 2019-01-01 ┆ 1029.0 │\n",
       "│ 2019-02-01 ┆ 1007.0 │\n",
       "│ 2019-03-01 ┆ 1060.0 │\n",
       "│ 2019-04-01 ┆ 1075.0 │\n",
       "│ 2019-05-01 ┆ 1078.0 │\n",
       "│ …          ┆ …      │\n",
       "│ 2023-08-01 ┆ 1578.0 │\n",
       "│ 2023-09-01 ┆ 1530.0 │\n",
       "│ 2023-10-01 ┆ 1558.0 │\n",
       "│ 2023-11-01 ┆ 1581.0 │\n",
       "│ 2023-12-01 ┆ 1692.0 │\n",
       "└────────────┴────────┘"
      ]
     },
     "execution_count": 6,
     "metadata": {},
     "output_type": "execute_result"
    }
   ],
   "source": [
    "# Let's drop first two columns and rename the last column.\n",
    "salary_df = salary_df.select(\n",
    "    pl.col('TIME'),\n",
    "    pl.col(salary_df.columns[-1]).alias('salary')\n",
    ")\n",
    "salary_df"
   ]
  },
  {
   "cell_type": "code",
   "execution_count": 7,
   "metadata": {},
   "outputs": [
    {
     "data": {
      "text/html": [
       "<div><style>\n",
       ".dataframe > thead > tr,\n",
       ".dataframe > tbody > tr {\n",
       "  text-align: right;\n",
       "  white-space: pre-wrap;\n",
       "}\n",
       "</style>\n",
       "<small>shape: (60, 2)</small><table border=\"1\" class=\"dataframe\"><thead><tr><th>TIME</th><th>cpi</th></tr><tr><td>date</td><td>f64</td></tr></thead><tbody><tr><td>2019-01-01</td><td>106.9</td></tr><tr><td>2019-02-01</td><td>107.0</td></tr><tr><td>2019-03-01</td><td>108.2</td></tr><tr><td>2019-04-01</td><td>109.1</td></tr><tr><td>2019-05-01</td><td>109.3</td></tr><tr><td>&hellip;</td><td>&hellip;</td></tr><tr><td>2023-08-01</td><td>144.3</td></tr><tr><td>2023-09-01</td><td>143.8</td></tr><tr><td>2023-10-01</td><td>143.2</td></tr><tr><td>2023-11-01</td><td>143.2</td></tr><tr><td>2023-12-01</td><td>142.1</td></tr></tbody></table></div>"
      ],
      "text/plain": [
       "shape: (60, 2)\n",
       "┌────────────┬───────┐\n",
       "│ TIME       ┆ cpi   │\n",
       "│ ---        ┆ ---   │\n",
       "│ date       ┆ f64   │\n",
       "╞════════════╪═══════╡\n",
       "│ 2019-01-01 ┆ 106.9 │\n",
       "│ 2019-02-01 ┆ 107.0 │\n",
       "│ 2019-03-01 ┆ 108.2 │\n",
       "│ 2019-04-01 ┆ 109.1 │\n",
       "│ 2019-05-01 ┆ 109.3 │\n",
       "│ …          ┆ …     │\n",
       "│ 2023-08-01 ┆ 144.3 │\n",
       "│ 2023-09-01 ┆ 143.8 │\n",
       "│ 2023-10-01 ┆ 143.2 │\n",
       "│ 2023-11-01 ┆ 143.2 │\n",
       "│ 2023-12-01 ┆ 142.1 │\n",
       "└────────────┴───────┘"
      ]
     },
     "execution_count": 7,
     "metadata": {},
     "output_type": "execute_result"
    }
   ],
   "source": [
    "# Same for the cpi_data\n",
    "cpi_df = data_to_df(cpi_data_json)\n",
    "cpi_df = cpi_df.select(\n",
    "    pl.col('TIME'),\n",
    "    pl.col(cpi_df.columns[-1]).alias('cpi')\n",
    ")\n",
    "cpi_df"
   ]
  },
  {
   "cell_type": "code",
   "execution_count": 8,
   "metadata": {},
   "outputs": [
    {
     "data": {
      "text/html": [
       "<div><style>\n",
       ".dataframe > thead > tr,\n",
       ".dataframe > tbody > tr {\n",
       "  text-align: right;\n",
       "  white-space: pre-wrap;\n",
       "}\n",
       "</style>\n",
       "<small>shape: (60, 3)</small><table border=\"1\" class=\"dataframe\"><thead><tr><th>TIME</th><th>salary</th><th>cpi</th></tr><tr><td>date</td><td>f64</td><td>f64</td></tr></thead><tbody><tr><td>2019-01-01</td><td>1029.0</td><td>106.9</td></tr><tr><td>2019-02-01</td><td>1007.0</td><td>107.0</td></tr><tr><td>2019-03-01</td><td>1060.0</td><td>108.2</td></tr><tr><td>2019-04-01</td><td>1075.0</td><td>109.1</td></tr><tr><td>2019-05-01</td><td>1078.0</td><td>109.3</td></tr><tr><td>&hellip;</td><td>&hellip;</td><td>&hellip;</td></tr><tr><td>2023-08-01</td><td>1578.0</td><td>144.3</td></tr><tr><td>2023-09-01</td><td>1530.0</td><td>143.8</td></tr><tr><td>2023-10-01</td><td>1558.0</td><td>143.2</td></tr><tr><td>2023-11-01</td><td>1581.0</td><td>143.2</td></tr><tr><td>2023-12-01</td><td>1692.0</td><td>142.1</td></tr></tbody></table></div>"
      ],
      "text/plain": [
       "shape: (60, 3)\n",
       "┌────────────┬────────┬───────┐\n",
       "│ TIME       ┆ salary ┆ cpi   │\n",
       "│ ---        ┆ ---    ┆ ---   │\n",
       "│ date       ┆ f64    ┆ f64   │\n",
       "╞════════════╪════════╪═══════╡\n",
       "│ 2019-01-01 ┆ 1029.0 ┆ 106.9 │\n",
       "│ 2019-02-01 ┆ 1007.0 ┆ 107.0 │\n",
       "│ 2019-03-01 ┆ 1060.0 ┆ 108.2 │\n",
       "│ 2019-04-01 ┆ 1075.0 ┆ 109.1 │\n",
       "│ 2019-05-01 ┆ 1078.0 ┆ 109.3 │\n",
       "│ …          ┆ …      ┆ …     │\n",
       "│ 2023-08-01 ┆ 1578.0 ┆ 144.3 │\n",
       "│ 2023-09-01 ┆ 1530.0 ┆ 143.8 │\n",
       "│ 2023-10-01 ┆ 1558.0 ┆ 143.2 │\n",
       "│ 2023-11-01 ┆ 1581.0 ┆ 143.2 │\n",
       "│ 2023-12-01 ┆ 1692.0 ┆ 142.1 │\n",
       "└────────────┴────────┴───────┘"
      ]
     },
     "execution_count": 8,
     "metadata": {},
     "output_type": "execute_result"
    }
   ],
   "source": [
    "# Now we can combine the data into a single dataframe.\n",
    "data = salary_df.join(cpi_df, on='TIME')\n",
    "data"
   ]
  },
  {
   "cell_type": "markdown",
   "metadata": {},
   "source": [
    "# Explore the data\n",
    "\n",
    "Let's see the best way to evaluate the relationship between the two metrics."
   ]
  },
  {
   "cell_type": "code",
   "execution_count": 9,
   "metadata": {},
   "outputs": [
    {
     "data": {
      "image/png": "[encoded data removed]",
      "text/plain": [
       "<Figure size 640x480 with 1 Axes>"
      ]
     },
     "metadata": {},
     "output_type": "display_data"
    }
   ],
   "source": [
    "plt.plot(data['TIME'], data['salary'])\n",
    "plt.plot(data['TIME'], data['cpi']);"
   ]
  },
  {
   "cell_type": "markdown",
   "metadata": {},
   "source": [
    "Not very informative due to different scales, let's calculate the metrics relative to December 2018."
   ]
  },
  {
   "cell_type": "code",
   "execution_count": 10,
   "metadata": {},
   "outputs": [
    {
     "data": {
      "text/html": [
       "<div><style>\n",
       ".dataframe > thead > tr,\n",
       ".dataframe > tbody > tr {\n",
       "  text-align: right;\n",
       "  white-space: pre-wrap;\n",
       "}\n",
       "</style>\n",
       "<small>shape: (60, 5)</small><table border=\"1\" class=\"dataframe\"><thead><tr><th>TIME</th><th>salary</th><th>cpi</th><th>salary_relative</th><th>cpi_relative</th></tr><tr><td>date</td><td>f64</td><td>f64</td><td>f64</td><td>f64</td></tr></thead><tbody><tr><td>2019-01-01</td><td>1029.0</td><td>106.9</td><td>1.0</td><td>1.0</td></tr><tr><td>2019-02-01</td><td>1007.0</td><td>107.0</td><td>0.97862</td><td>1.000935</td></tr><tr><td>2019-03-01</td><td>1060.0</td><td>108.2</td><td>1.030126</td><td>1.012161</td></tr><tr><td>2019-04-01</td><td>1075.0</td><td>109.1</td><td>1.044704</td><td>1.02058</td></tr><tr><td>2019-05-01</td><td>1078.0</td><td>109.3</td><td>1.047619</td><td>1.022451</td></tr><tr><td>&hellip;</td><td>&hellip;</td><td>&hellip;</td><td>&hellip;</td><td>&hellip;</td></tr><tr><td>2023-08-01</td><td>1578.0</td><td>144.3</td><td>1.533528</td><td>1.34986</td></tr><tr><td>2023-09-01</td><td>1530.0</td><td>143.8</td><td>1.48688</td><td>1.345182</td></tr><tr><td>2023-10-01</td><td>1558.0</td><td>143.2</td><td>1.514091</td><td>1.33957</td></tr><tr><td>2023-11-01</td><td>1581.0</td><td>143.2</td><td>1.536443</td><td>1.33957</td></tr><tr><td>2023-12-01</td><td>1692.0</td><td>142.1</td><td>1.644315</td><td>1.32928</td></tr></tbody></table></div>"
      ],
      "text/plain": [
       "shape: (60, 5)\n",
       "┌────────────┬────────┬───────┬─────────────────┬──────────────┐\n",
       "│ TIME       ┆ salary ┆ cpi   ┆ salary_relative ┆ cpi_relative │\n",
       "│ ---        ┆ ---    ┆ ---   ┆ ---             ┆ ---          │\n",
       "│ date       ┆ f64    ┆ f64   ┆ f64             ┆ f64          │\n",
       "╞════════════╪════════╪═══════╪═════════════════╪══════════════╡\n",
       "│ 2019-01-01 ┆ 1029.0 ┆ 106.9 ┆ 1.0             ┆ 1.0          │\n",
       "│ 2019-02-01 ┆ 1007.0 ┆ 107.0 ┆ 0.97862         ┆ 1.000935     │\n",
       "│ 2019-03-01 ┆ 1060.0 ┆ 108.2 ┆ 1.030126        ┆ 1.012161     │\n",
       "│ 2019-04-01 ┆ 1075.0 ┆ 109.1 ┆ 1.044704        ┆ 1.02058      │\n",
       "│ 2019-05-01 ┆ 1078.0 ┆ 109.3 ┆ 1.047619        ┆ 1.022451     │\n",
       "│ …          ┆ …      ┆ …     ┆ …               ┆ …            │\n",
       "│ 2023-08-01 ┆ 1578.0 ┆ 144.3 ┆ 1.533528        ┆ 1.34986      │\n",
       "│ 2023-09-01 ┆ 1530.0 ┆ 143.8 ┆ 1.48688         ┆ 1.345182     │\n",
       "│ 2023-10-01 ┆ 1558.0 ┆ 143.2 ┆ 1.514091        ┆ 1.33957      │\n",
       "│ 2023-11-01 ┆ 1581.0 ┆ 143.2 ┆ 1.536443        ┆ 1.33957      │\n",
       "│ 2023-12-01 ┆ 1692.0 ┆ 142.1 ┆ 1.644315        ┆ 1.32928      │\n",
       "└────────────┴────────┴───────┴─────────────────┴──────────────┘"
      ]
     },
     "execution_count": 10,
     "metadata": {},
     "output_type": "execute_result"
    }
   ],
   "source": [
    "first_salary = data['salary'][0]\n",
    "first_cpi = data['cpi'][0]\n",
    "data = data.with_columns(\n",
    "    (pl.col('salary') / first_salary).alias('salary_relative'),\n",
    "    (pl.col('cpi') / first_cpi).alias('cpi_relative'),\n",
    ")\n",
    "data"
   ]
  },
  {
   "cell_type": "code",
   "execution_count": 11,
   "metadata": {},
   "outputs": [
    {
     "data": {
      "image/png": "[encoded data removed]",
      "text/plain": [
       "<Figure size 640x480 with 1 Axes>"
      ]
     },
     "metadata": {},
     "output_type": "display_data"
    }
   ],
   "source": [
    "plt.plot(data['TIME'], data['salary_relative'], label='salary')\n",
    "plt.plot(data['TIME'], data['cpi_relative'], label='cpi')\n",
    "plt.legend();"
   ]
  },
  {
   "cell_type": "markdown",
   "metadata": {},
   "source": [
    "What if we look at the change values?"
   ]
  },
  {
   "cell_type": "code",
   "execution_count": 12,
   "metadata": {},
   "outputs": [
    {
     "data": {
      "text/html": [
       "<div><style>\n",
       ".dataframe > thead > tr,\n",
       ".dataframe > tbody > tr {\n",
       "  text-align: right;\n",
       "  white-space: pre-wrap;\n",
       "}\n",
       "</style>\n",
       "<small>shape: (60, 7)</small><table border=\"1\" class=\"dataframe\"><thead><tr><th>TIME</th><th>salary</th><th>cpi</th><th>salary_relative</th><th>cpi_relative</th><th>salary_change</th><th>cpi_change</th></tr><tr><td>date</td><td>f64</td><td>f64</td><td>f64</td><td>f64</td><td>f64</td><td>f64</td></tr></thead><tbody><tr><td>2019-01-01</td><td>1029.0</td><td>106.9</td><td>1.0</td><td>1.0</td><td>null</td><td>null</td></tr><tr><td>2019-02-01</td><td>1007.0</td><td>107.0</td><td>0.97862</td><td>1.000935</td><td>-0.02138</td><td>0.000935</td></tr><tr><td>2019-03-01</td><td>1060.0</td><td>108.2</td><td>1.030126</td><td>1.012161</td><td>0.052632</td><td>0.011215</td></tr><tr><td>2019-04-01</td><td>1075.0</td><td>109.1</td><td>1.044704</td><td>1.02058</td><td>0.014151</td><td>0.008318</td></tr><tr><td>2019-05-01</td><td>1078.0</td><td>109.3</td><td>1.047619</td><td>1.022451</td><td>0.002791</td><td>0.001833</td></tr><tr><td>&hellip;</td><td>&hellip;</td><td>&hellip;</td><td>&hellip;</td><td>&hellip;</td><td>&hellip;</td><td>&hellip;</td></tr><tr><td>2023-08-01</td><td>1578.0</td><td>144.3</td><td>1.533528</td><td>1.34986</td><td>0.026008</td><td>-0.006198</td></tr><tr><td>2023-09-01</td><td>1530.0</td><td>143.8</td><td>1.48688</td><td>1.345182</td><td>-0.030418</td><td>-0.003465</td></tr><tr><td>2023-10-01</td><td>1558.0</td><td>143.2</td><td>1.514091</td><td>1.33957</td><td>0.018301</td><td>-0.004172</td></tr><tr><td>2023-11-01</td><td>1581.0</td><td>143.2</td><td>1.536443</td><td>1.33957</td><td>0.014763</td><td>0.0</td></tr><tr><td>2023-12-01</td><td>1692.0</td><td>142.1</td><td>1.644315</td><td>1.32928</td><td>0.070209</td><td>-0.007682</td></tr></tbody></table></div>"
      ],
      "text/plain": [
       "shape: (60, 7)\n",
       "┌────────────┬────────┬───────┬─────────────────┬──────────────┬───────────────┬────────────┐\n",
       "│ TIME       ┆ salary ┆ cpi   ┆ salary_relative ┆ cpi_relative ┆ salary_change ┆ cpi_change │\n",
       "│ ---        ┆ ---    ┆ ---   ┆ ---             ┆ ---          ┆ ---           ┆ ---        │\n",
       "│ date       ┆ f64    ┆ f64   ┆ f64             ┆ f64          ┆ f64           ┆ f64        │\n",
       "╞════════════╪════════╪═══════╪═════════════════╪══════════════╪═══════════════╪════════════╡\n",
       "│ 2019-01-01 ┆ 1029.0 ┆ 106.9 ┆ 1.0             ┆ 1.0          ┆ null          ┆ null       │\n",
       "│ 2019-02-01 ┆ 1007.0 ┆ 107.0 ┆ 0.97862         ┆ 1.000935     ┆ -0.02138      ┆ 0.000935   │\n",
       "│ 2019-03-01 ┆ 1060.0 ┆ 108.2 ┆ 1.030126        ┆ 1.012161     ┆ 0.052632      ┆ 0.011215   │\n",
       "│ 2019-04-01 ┆ 1075.0 ┆ 109.1 ┆ 1.044704        ┆ 1.02058      ┆ 0.014151      ┆ 0.008318   │\n",
       "│ 2019-05-01 ┆ 1078.0 ┆ 109.3 ┆ 1.047619        ┆ 1.022451     ┆ 0.002791      ┆ 0.001833   │\n",
       "│ …          ┆ …      ┆ …     ┆ …               ┆ …            ┆ …             ┆ …          │\n",
       "│ 2023-08-01 ┆ 1578.0 ┆ 144.3 ┆ 1.533528        ┆ 1.34986      ┆ 0.026008      ┆ -0.006198  │\n",
       "│ 2023-09-01 ┆ 1530.0 ┆ 143.8 ┆ 1.48688         ┆ 1.345182     ┆ -0.030418     ┆ -0.003465  │\n",
       "│ 2023-10-01 ┆ 1558.0 ┆ 143.2 ┆ 1.514091        ┆ 1.33957      ┆ 0.018301      ┆ -0.004172  │\n",
       "│ 2023-11-01 ┆ 1581.0 ┆ 143.2 ┆ 1.536443        ┆ 1.33957      ┆ 0.014763      ┆ 0.0        │\n",
       "│ 2023-12-01 ┆ 1692.0 ┆ 142.1 ┆ 1.644315        ┆ 1.32928      ┆ 0.070209      ┆ -0.007682  │\n",
       "└────────────┴────────┴───────┴─────────────────┴──────────────┴───────────────┴────────────┘"
      ]
     },
     "execution_count": 12,
     "metadata": {},
     "output_type": "execute_result"
    }
   ],
   "source": [
    "data = data.with_columns(\n",
    "    (pl.col('salary') / pl.col('salary').shift(1) - 1.0).alias('salary_change'),\n",
    "    (pl.col('cpi') / pl.col('cpi').shift(1) - 1.0).alias('cpi_change'),\n",
    ")\n",
    "data"
   ]
  },
  {
   "cell_type": "code",
   "execution_count": 13,
   "metadata": {},
   "outputs": [
    {
     "data": {
      "image/png": "[encoded data removed]",
      "text/plain": [
       "<Figure size 640x480 with 1 Axes>"
      ]
     },
     "metadata": {},
     "output_type": "display_data"
    }
   ],
   "source": [
    "plt.plot(data['TIME'], data['salary_change'], label='salary')\n",
    "plt.plot(data['TIME'], data['cpi_change'], label='cpi')\n",
    "plt.legend();"
   ]
  },
  {
   "cell_type": "markdown",
   "metadata": {},
   "source": [
    "Not too informative too.\n",
    "\n",
    "What if we divide salary relative to 2018 by CPI relative to 2018?"
   ]
  },
  {
   "cell_type": "code",
   "execution_count": 14,
   "metadata": {},
   "outputs": [
    {
     "data": {
      "text/html": [
       "<div><style>\n",
       ".dataframe > thead > tr,\n",
       ".dataframe > tbody > tr {\n",
       "  text-align: right;\n",
       "  white-space: pre-wrap;\n",
       "}\n",
       "</style>\n",
       "<small>shape: (60, 8)</small><table border=\"1\" class=\"dataframe\"><thead><tr><th>TIME</th><th>salary</th><th>cpi</th><th>salary_relative</th><th>cpi_relative</th><th>salary_change</th><th>cpi_change</th><th>salary_vs_cpi</th></tr><tr><td>date</td><td>f64</td><td>f64</td><td>f64</td><td>f64</td><td>f64</td><td>f64</td><td>f64</td></tr></thead><tbody><tr><td>2019-01-01</td><td>1029.0</td><td>106.9</td><td>1.0</td><td>1.0</td><td>null</td><td>null</td><td>0.0</td></tr><tr><td>2019-02-01</td><td>1007.0</td><td>107.0</td><td>0.97862</td><td>1.000935</td><td>-0.02138</td><td>0.000935</td><td>-0.022315</td></tr><tr><td>2019-03-01</td><td>1060.0</td><td>108.2</td><td>1.030126</td><td>1.012161</td><td>0.052632</td><td>0.011215</td><td>0.017965</td></tr><tr><td>2019-04-01</td><td>1075.0</td><td>109.1</td><td>1.044704</td><td>1.02058</td><td>0.014151</td><td>0.008318</td><td>0.024124</td></tr><tr><td>2019-05-01</td><td>1078.0</td><td>109.3</td><td>1.047619</td><td>1.022451</td><td>0.002791</td><td>0.001833</td><td>0.025168</td></tr><tr><td>&hellip;</td><td>&hellip;</td><td>&hellip;</td><td>&hellip;</td><td>&hellip;</td><td>&hellip;</td><td>&hellip;</td><td>&hellip;</td></tr><tr><td>2023-08-01</td><td>1578.0</td><td>144.3</td><td>1.533528</td><td>1.34986</td><td>0.026008</td><td>-0.006198</td><td>0.183668</td></tr><tr><td>2023-09-01</td><td>1530.0</td><td>143.8</td><td>1.48688</td><td>1.345182</td><td>-0.030418</td><td>-0.003465</td><td>0.141698</td></tr><tr><td>2023-10-01</td><td>1558.0</td><td>143.2</td><td>1.514091</td><td>1.33957</td><td>0.018301</td><td>-0.004172</td><td>0.174522</td></tr><tr><td>2023-11-01</td><td>1581.0</td><td>143.2</td><td>1.536443</td><td>1.33957</td><td>0.014763</td><td>0.0</td><td>0.196873</td></tr><tr><td>2023-12-01</td><td>1692.0</td><td>142.1</td><td>1.644315</td><td>1.32928</td><td>0.070209</td><td>-0.007682</td><td>0.315035</td></tr></tbody></table></div>"
      ],
      "text/plain": [
       "shape: (60, 8)\n",
       "┌────────────┬────────┬───────┬─────────────┬─────────────┬─────────────┬────────────┬─────────────┐\n",
       "│ TIME       ┆ salary ┆ cpi   ┆ salary_rela ┆ cpi_relativ ┆ salary_chan ┆ cpi_change ┆ salary_vs_c │\n",
       "│ ---        ┆ ---    ┆ ---   ┆ tive        ┆ e           ┆ ge          ┆ ---        ┆ pi          │\n",
       "│ date       ┆ f64    ┆ f64   ┆ ---         ┆ ---         ┆ ---         ┆ f64        ┆ ---         │\n",
       "│            ┆        ┆       ┆ f64         ┆ f64         ┆ f64         ┆            ┆ f64         │\n",
       "╞════════════╪════════╪═══════╪═════════════╪═════════════╪═════════════╪════════════╪═════════════╡\n",
       "│ 2019-01-01 ┆ 1029.0 ┆ 106.9 ┆ 1.0         ┆ 1.0         ┆ null        ┆ null       ┆ 0.0         │\n",
       "│ 2019-02-01 ┆ 1007.0 ┆ 107.0 ┆ 0.97862     ┆ 1.000935    ┆ -0.02138    ┆ 0.000935   ┆ -0.022315   │\n",
       "│ 2019-03-01 ┆ 1060.0 ┆ 108.2 ┆ 1.030126    ┆ 1.012161    ┆ 0.052632    ┆ 0.011215   ┆ 0.017965    │\n",
       "│ 2019-04-01 ┆ 1075.0 ┆ 109.1 ┆ 1.044704    ┆ 1.02058     ┆ 0.014151    ┆ 0.008318   ┆ 0.024124    │\n",
       "│ 2019-05-01 ┆ 1078.0 ┆ 109.3 ┆ 1.047619    ┆ 1.022451    ┆ 0.002791    ┆ 0.001833   ┆ 0.025168    │\n",
       "│ …          ┆ …      ┆ …     ┆ …           ┆ …           ┆ …           ┆ …          ┆ …           │\n",
       "│ 2023-08-01 ┆ 1578.0 ┆ 144.3 ┆ 1.533528    ┆ 1.34986     ┆ 0.026008    ┆ -0.006198  ┆ 0.183668    │\n",
       "│ 2023-09-01 ┆ 1530.0 ┆ 143.8 ┆ 1.48688     ┆ 1.345182    ┆ -0.030418   ┆ -0.003465  ┆ 0.141698    │\n",
       "│ 2023-10-01 ┆ 1558.0 ┆ 143.2 ┆ 1.514091    ┆ 1.33957     ┆ 0.018301    ┆ -0.004172  ┆ 0.174522    │\n",
       "│ 2023-11-01 ┆ 1581.0 ┆ 143.2 ┆ 1.536443    ┆ 1.33957     ┆ 0.014763    ┆ 0.0        ┆ 0.196873    │\n",
       "│ 2023-12-01 ┆ 1692.0 ┆ 142.1 ┆ 1.644315    ┆ 1.32928     ┆ 0.070209    ┆ -0.007682  ┆ 0.315035    │\n",
       "└────────────┴────────┴───────┴─────────────┴─────────────┴─────────────┴────────────┴─────────────┘"
      ]
     },
     "execution_count": 14,
     "metadata": {},
     "output_type": "execute_result"
    }
   ],
   "source": [
    "data = data.with_columns(\n",
    "    (pl.col('salary_relative') - pl.col('cpi_relative')).alias('salary_vs_cpi')\n",
    ")\n",
    "data"
   ]
  },
  {
   "cell_type": "code",
   "execution_count": 15,
   "metadata": {},
   "outputs": [
    {
     "data": {
      "image/png": "[encoded data removed]",
      "text/plain": [
       "<Figure size 640x480 with 1 Axes>"
      ]
     },
     "metadata": {},
     "output_type": "display_data"
    }
   ],
   "source": [
    "plt.plot(data['TIME'], data['salary_vs_cpi']);"
   ]
  },
  {
   "cell_type": "markdown",
   "metadata": {},
   "source": [
    "# Final graph\n",
    "\n",
    "I'll stick to the graph displaying both salary and CPI relative to the first month. Let's make it nicer!\n",
    "\n",
    "Will use plotly this time."
   ]
  },
  {
   "cell_type": "code",
   "execution_count": 16,
   "metadata": {},
   "outputs": [
    {
     "data": {
      "text/html": [
       "<div><style>\n",
       ".dataframe > thead > tr,\n",
       ".dataframe > tbody > tr {\n",
       "  text-align: right;\n",
       "  white-space: pre-wrap;\n",
       "}\n",
       "</style>\n",
       "<small>shape: (60, 8)</small><table border=\"1\" class=\"dataframe\"><thead><tr><th>TIME</th><th>salary</th><th>cpi</th><th>salary_relative</th><th>cpi_relative</th><th>salary_change</th><th>cpi_change</th><th>salary_vs_cpi</th></tr><tr><td>date</td><td>f64</td><td>f64</td><td>f64</td><td>f64</td><td>f64</td><td>f64</td><td>f64</td></tr></thead><tbody><tr><td>2019-01-01</td><td>1029.0</td><td>106.9</td><td>0.0</td><td>0.0</td><td>null</td><td>null</td><td>0.0</td></tr><tr><td>2019-02-01</td><td>1007.0</td><td>107.0</td><td>-2.137998</td><td>0.093545</td><td>-0.02138</td><td>0.000935</td><td>-2.231543</td></tr><tr><td>2019-03-01</td><td>1060.0</td><td>108.2</td><td>3.012634</td><td>1.21609</td><td>0.052632</td><td>0.011215</td><td>1.796544</td></tr><tr><td>2019-04-01</td><td>1075.0</td><td>109.1</td><td>4.47036</td><td>2.057998</td><td>0.014151</td><td>0.008318</td><td>2.412361</td></tr><tr><td>2019-05-01</td><td>1078.0</td><td>109.3</td><td>4.761905</td><td>2.245089</td><td>0.002791</td><td>0.001833</td><td>2.516816</td></tr><tr><td>&hellip;</td><td>&hellip;</td><td>&hellip;</td><td>&hellip;</td><td>&hellip;</td><td>&hellip;</td><td>&hellip;</td><td>&hellip;</td></tr><tr><td>2023-08-01</td><td>1578.0</td><td>144.3</td><td>53.35277</td><td>34.985968</td><td>0.026008</td><td>-0.006198</td><td>18.366801</td></tr><tr><td>2023-09-01</td><td>1530.0</td><td>143.8</td><td>48.688047</td><td>34.518241</td><td>-0.030418</td><td>-0.003465</td><td>14.169805</td></tr><tr><td>2023-10-01</td><td>1558.0</td><td>143.2</td><td>51.409135</td><td>33.956969</td><td>0.018301</td><td>-0.004172</td><td>17.452166</td></tr><tr><td>2023-11-01</td><td>1581.0</td><td>143.2</td><td>53.644315</td><td>33.956969</td><td>0.014763</td><td>0.0</td><td>19.687346</td></tr><tr><td>2023-12-01</td><td>1692.0</td><td>142.1</td><td>64.431487</td><td>32.92797</td><td>0.070209</td><td>-0.007682</td><td>31.503517</td></tr></tbody></table></div>"
      ],
      "text/plain": [
       "shape: (60, 8)\n",
       "┌────────────┬────────┬───────┬─────────────┬─────────────┬─────────────┬────────────┬─────────────┐\n",
       "│ TIME       ┆ salary ┆ cpi   ┆ salary_rela ┆ cpi_relativ ┆ salary_chan ┆ cpi_change ┆ salary_vs_c │\n",
       "│ ---        ┆ ---    ┆ ---   ┆ tive        ┆ e           ┆ ge          ┆ ---        ┆ pi          │\n",
       "│ date       ┆ f64    ┆ f64   ┆ ---         ┆ ---         ┆ ---         ┆ f64        ┆ ---         │\n",
       "│            ┆        ┆       ┆ f64         ┆ f64         ┆ f64         ┆            ┆ f64         │\n",
       "╞════════════╪════════╪═══════╪═════════════╪═════════════╪═════════════╪════════════╪═════════════╡\n",
       "│ 2019-01-01 ┆ 1029.0 ┆ 106.9 ┆ 0.0         ┆ 0.0         ┆ null        ┆ null       ┆ 0.0         │\n",
       "│ 2019-02-01 ┆ 1007.0 ┆ 107.0 ┆ -2.137998   ┆ 0.093545    ┆ -0.02138    ┆ 0.000935   ┆ -2.231543   │\n",
       "│ 2019-03-01 ┆ 1060.0 ┆ 108.2 ┆ 3.012634    ┆ 1.21609     ┆ 0.052632    ┆ 0.011215   ┆ 1.796544    │\n",
       "│ 2019-04-01 ┆ 1075.0 ┆ 109.1 ┆ 4.47036     ┆ 2.057998    ┆ 0.014151    ┆ 0.008318   ┆ 2.412361    │\n",
       "│ 2019-05-01 ┆ 1078.0 ┆ 109.3 ┆ 4.761905    ┆ 2.245089    ┆ 0.002791    ┆ 0.001833   ┆ 2.516816    │\n",
       "│ …          ┆ …      ┆ …     ┆ …           ┆ …           ┆ …           ┆ …          ┆ …           │\n",
       "│ 2023-08-01 ┆ 1578.0 ┆ 144.3 ┆ 53.35277    ┆ 34.985968   ┆ 0.026008    ┆ -0.006198  ┆ 18.366801   │\n",
       "│ 2023-09-01 ┆ 1530.0 ┆ 143.8 ┆ 48.688047   ┆ 34.518241   ┆ -0.030418   ┆ -0.003465  ┆ 14.169805   │\n",
       "│ 2023-10-01 ┆ 1558.0 ┆ 143.2 ┆ 51.409135   ┆ 33.956969   ┆ 0.018301    ┆ -0.004172  ┆ 17.452166   │\n",
       "│ 2023-11-01 ┆ 1581.0 ┆ 143.2 ┆ 53.644315   ┆ 33.956969   ┆ 0.014763    ┆ 0.0        ┆ 19.687346   │\n",
       "│ 2023-12-01 ┆ 1692.0 ┆ 142.1 ┆ 64.431487   ┆ 32.92797    ┆ 0.070209    ┆ -0.007682  ┆ 31.503517   │\n",
       "└────────────┴────────┴───────┴─────────────┴─────────────┴─────────────┴────────────┴─────────────┘"
      ]
     },
     "execution_count": 16,
     "metadata": {},
     "output_type": "execute_result"
    }
   ],
   "source": [
    "# Tranform data to percentage values.\n",
    "data = data.with_columns(\n",
    "    pl.col('salary_relative') * 100 - 100,\n",
    "    pl.col('cpi_relative') * 100 - 100,\n",
    "    pl.col('salary_vs_cpi') * 100\n",
    ")\n",
    "data"
   ]
  },
  {
   "cell_type": "code",
   "execution_count": 17,
   "metadata": {},
   "outputs": [
    {
     "data": {
      "image/png": "[encoded data removed]",
      "text/plain": [
       "<Figure size 640x480 with 1 Axes>"
      ]
     },
     "metadata": {},
     "output_type": "display_data"
    }
   ],
   "source": [
    "import matplotlib.ticker as mtick\n",
    "\n",
    "ax = plt.subplot()\n",
    "\n",
    "ax.plot(data['TIME'],\n",
    "         data['salary_relative'],\n",
    "         label=f'Cumulative gross salary growth since Jan {START_YEAR}, %')\n",
    "ax.plot(data['TIME'],\n",
    "         data['cpi_relative'], label=f'Cumulative inflation since Jan {START_YEAR}, %')\n",
    "\n",
    "# Format the date.\n",
    "fmt = '%.0f%%'\n",
    "yticks = mtick.FormatStrFormatter(fmt)\n",
    "ax.yaxis.set_major_formatter(yticks)\n",
    "\n",
    "plt.legend();"
   ]
  },
  {
   "cell_type": "code",
   "execution_count": 18,
   "metadata": {},
   "outputs": [
    {
     "data": {
      "application/vnd.plotly.v1+json": {
       "config": {
        "plotlyServerURL": "https://plot.ly",
        "toImageButtonOptions": {
         "filename": "custom_image",
         "format": "png",
         "scale": 6
        }
       },
       "data": [
        {
         "hovertemplate": "variable=Average gross salary<br>TIME=%{x}<br>value=%{y}<extra></extra>",
         "legendgroup": "Average gross salary",
         "line": {
          "color": "#636efa",
          "dash": "solid"
         },
         "marker": {
          "symbol": "circle"
         },
         "mode": "lines",
         "name": "Average gross salary",
         "orientation": "v",
         "showlegend": true,
         "type": "scatter",
         "x": [
          "2019-01-01T00:00:00",
          "2019-02-01T00:00:00",
          "2019-03-01T00:00:00",
          "2019-04-01T00:00:00",
          "2019-05-01T00:00:00",
          "2019-06-01T00:00:00",
          "2019-07-01T00:00:00",
          "2019-08-01T00:00:00",
          "2019-09-01T00:00:00",
          "2019-10-01T00:00:00",
          "2019-11-01T00:00:00",
          "2019-12-01T00:00:00",
          "2020-01-01T00:00:00",
          "2020-02-01T00:00:00",
          "2020-03-01T00:00:00",
          "2020-04-01T00:00:00",
          "2020-05-01T00:00:00",
          "2020-06-01T00:00:00",
          "2020-07-01T00:00:00",
          "2020-08-01T00:00:00",
          "2020-09-01T00:00:00",
          "2020-10-01T00:00:00",
          "2020-11-01T00:00:00",
          "2020-12-01T00:00:00",
          "2021-01-01T00:00:00",
          "2021-02-01T00:00:00",
          "2021-03-01T00:00:00",
          "2021-04-01T00:00:00",
          "2021-05-01T00:00:00",
          "2021-06-01T00:00:00",
          "2021-07-01T00:00:00",
          "2021-08-01T00:00:00",
          "2021-09-01T00:00:00",
          "2021-10-01T00:00:00",
          "2021-11-01T00:00:00",
          "2021-12-01T00:00:00",
          "2022-01-01T00:00:00",
          "2022-02-01T00:00:00",
          "2022-03-01T00:00:00",
          "2022-04-01T00:00:00",
          "2022-05-01T00:00:00",
          "2022-06-01T00:00:00",
          "2022-07-01T00:00:00",
          "2022-08-01T00:00:00",
          "2022-09-01T00:00:00",
          "2022-10-01T00:00:00",
          "2022-11-01T00:00:00",
          "2022-12-01T00:00:00",
          "2023-01-01T00:00:00",
          "2023-02-01T00:00:00",
          "2023-03-01T00:00:00",
          "2023-04-01T00:00:00",
          "2023-05-01T00:00:00",
          "2023-06-01T00:00:00",
          "2023-07-01T00:00:00",
          "2023-08-01T00:00:00",
          "2023-09-01T00:00:00",
          "2023-10-01T00:00:00",
          "2023-11-01T00:00:00",
          "2023-12-01T00:00:00"
         ],
         "xaxis": "x",
         "y": [
          0,
          -2.1379980563654044,
          3.012633624878518,
          4.470359572400383,
          4.761904761904773,
          4.373177842565596,
          7.968901846452866,
          4.859086491739532,
          2.9154518950437165,
          5.830903790087461,
          6.997084548104951,
          11.953352769679299,
          7.288629737609327,
          5.344995140913511,
          8.551992225461618,
          8.940719144800767,
          7.5801749271136885,
          10.689990281826994,
          15.257531584062207,
          11.467444120505334,
          11.078717201166171,
          11.661807580174923,
          13.313896987366363,
          21.379980563654016,
          15.743440233236157,
          15.549076773566554,
          22.351797862001945,
          21.28279883381923,
          20.991253644314867,
          24.29543245869776,
          28.474246841593754,
          26.62779397473274,
          24.684159378036924,
          23.712342079689023,
          26.43343051506318,
          39.45578231292518,
          24.198250728862973,
          20.991253644314867,
          34.305150631681244,
          30.515063168124385,
          32.16715257531584,
          34.305150631681244,
          34.11078717201167,
          36.44314868804662,
          33.23615160349854,
          33.62487852283772,
          37.31778425655975,
          49.65986394557822,
          39.45578231292518,
          38.58114674441205,
          48.202137998056344,
          44.023323615160336,
          50.43731778425655,
          50.145772594752174,
          49.46550048590862,
          53.35276967930028,
          48.68804664723032,
          51.40913508260445,
          53.644314868804656,
          64.43148688046648
         ],
         "yaxis": "y"
        },
        {
         "hovertemplate": "variable=Inflation<br>TIME=%{x}<br>value=%{y}<extra></extra>",
         "legendgroup": "Inflation",
         "line": {
          "color": "#EF553B",
          "dash": "solid"
         },
         "marker": {
          "symbol": "circle"
         },
         "mode": "lines",
         "name": "Inflation",
         "orientation": "v",
         "showlegend": true,
         "type": "scatter",
         "x": [
          "2019-01-01T00:00:00",
          "2019-02-01T00:00:00",
          "2019-03-01T00:00:00",
          "2019-04-01T00:00:00",
          "2019-05-01T00:00:00",
          "2019-06-01T00:00:00",
          "2019-07-01T00:00:00",
          "2019-08-01T00:00:00",
          "2019-09-01T00:00:00",
          "2019-10-01T00:00:00",
          "2019-11-01T00:00:00",
          "2019-12-01T00:00:00",
          "2020-01-01T00:00:00",
          "2020-02-01T00:00:00",
          "2020-03-01T00:00:00",
          "2020-04-01T00:00:00",
          "2020-05-01T00:00:00",
          "2020-06-01T00:00:00",
          "2020-07-01T00:00:00",
          "2020-08-01T00:00:00",
          "2020-09-01T00:00:00",
          "2020-10-01T00:00:00",
          "2020-11-01T00:00:00",
          "2020-12-01T00:00:00",
          "2021-01-01T00:00:00",
          "2021-02-01T00:00:00",
          "2021-03-01T00:00:00",
          "2021-04-01T00:00:00",
          "2021-05-01T00:00:00",
          "2021-06-01T00:00:00",
          "2021-07-01T00:00:00",
          "2021-08-01T00:00:00",
          "2021-09-01T00:00:00",
          "2021-10-01T00:00:00",
          "2021-11-01T00:00:00",
          "2021-12-01T00:00:00",
          "2022-01-01T00:00:00",
          "2022-02-01T00:00:00",
          "2022-03-01T00:00:00",
          "2022-04-01T00:00:00",
          "2022-05-01T00:00:00",
          "2022-06-01T00:00:00",
          "2022-07-01T00:00:00",
          "2022-08-01T00:00:00",
          "2022-09-01T00:00:00",
          "2022-10-01T00:00:00",
          "2022-11-01T00:00:00",
          "2022-12-01T00:00:00",
          "2023-01-01T00:00:00",
          "2023-02-01T00:00:00",
          "2023-03-01T00:00:00",
          "2023-04-01T00:00:00",
          "2023-05-01T00:00:00",
          "2023-06-01T00:00:00",
          "2023-07-01T00:00:00",
          "2023-08-01T00:00:00",
          "2023-09-01T00:00:00",
          "2023-10-01T00:00:00",
          "2023-11-01T00:00:00",
          "2023-12-01T00:00:00"
         ],
         "xaxis": "x",
         "y": [
          0,
          0.09354536950421277,
          1.2160898035547234,
          2.0579981290925957,
          2.2450888681010213,
          2.619270346117858,
          1.683816651075773,
          1.8709073900841986,
          1.8709073900841986,
          2.2450888681010213,
          2.0579981290925957,
          1.7773620205799716,
          2.1515434985968085,
          2.338634237605234,
          2.619270346117858,
          2.0579981290925957,
          1.683816651075773,
          1.8709073900841986,
          2.1515434985968085,
          1.590271281571546,
          1.683816651075773,
          1.590271281571546,
          1.3096351730589362,
          1.3096351730589362,
          1.683816651075773,
          2.1515434985968085,
          2.8999064546304965,
          3.8353601496725815,
          4.303086997193645,
          4.677268475210482,
          5.051449953227305,
          5.425631431244142,
          6.5481758652946525,
          7.764265668849404,
          8.886810102899915,
          9.260991580916738,
          9.260991580916738,
          11.038353601496723,
          14.78016838166512,
          17.305893358278766,
          21.889616463985035,
          24.88306828811973,
          27.595884003741816,
          28.157156220767064,
          30.12160898035546,
          31.150608044901787,
          32.647333956969135,
          32.08606173994386,
          32.74087932647333,
          33.582787652011234,
          34.51824134705333,
          34.98596819457438,
          36.66978484565013,
          34.79887745556593,
          35.82787652011223,
          34.98596819457438,
          34.51824134705333,
          33.95696913002806,
          33.95696913002806,
          32.92797006548176
         ],
         "yaxis": "y"
        }
       ],
       "layout": {
        "annotations": [
         {
          "showarrow": false,
          "text": "Data source: stat.gov.lv, tables DSV010m and PCI020m",
          "x": -0.07,
          "xref": "paper",
          "y": -0.15,
          "yref": "paper"
         }
        ],
        "font": {
         "size": 12
        },
        "legend": {
         "title": {},
         "tracegroupgap": 0,
         "x": 0.01,
         "xanchor": "left",
         "y": 0.99,
         "yanchor": "top"
        },
        "margin": {
         "b": 55,
         "l": 0,
         "r": 10,
         "t": 32
        },
        "template": {
         "data": {
          "bar": [
           {
            "error_x": {
             "color": "#2a3f5f"
            },
            "error_y": {
             "color": "#2a3f5f"
            },
            "marker": {
             "line": {
              "color": "#E5ECF6",
              "width": 0.5
             },
             "pattern": {
              "fillmode": "overlay",
              "size": 10,
              "solidity": 0.2
             }
            },
            "type": "bar"
           }
          ],
          "barpolar": [
           {
            "marker": {
             "line": {
              "color": "#E5ECF6",
              "width": 0.5
             },
             "pattern": {
              "fillmode": "overlay",
              "size": 10,
              "solidity": 0.2
             }
            },
            "type": "barpolar"
           }
          ],
          "carpet": [
           {
            "aaxis": {
             "endlinecolor": "#2a3f5f",
             "gridcolor": "white",
             "linecolor": "white",
             "minorgridcolor": "white",
             "startlinecolor": "#2a3f5f"
            },
            "baxis": {
             "endlinecolor": "#2a3f5f",
             "gridcolor": "white",
             "linecolor": "white",
             "minorgridcolor": "white",
             "startlinecolor": "#2a3f5f"
            },
            "type": "carpet"
           }
          ],
          "choropleth": [
           {
            "colorbar": {
             "outlinewidth": 0,
             "ticks": ""
            },
            "type": "choropleth"
           }
          ],
          "contour": [
           {
            "colorbar": {
             "outlinewidth": 0,
             "ticks": ""
            },
            "colorscale": [
             [
              0,
              "#0d0887"
             ],
             [
              0.1111111111111111,
              "#46039f"
             ],
             [
              0.2222222222222222,
              "#7201a8"
             ],
             [
              0.3333333333333333,
              "#9c179e"
             ],
             [
              0.4444444444444444,
              "#bd3786"
             ],
             [
              0.5555555555555556,
              "#d8576b"
             ],
             [
              0.6666666666666666,
              "#ed7953"
             ],
             [
              0.7777777777777778,
              "#fb9f3a"
             ],
             [
              0.8888888888888888,
              "#fdca26"
             ],
             [
              1,
              "#f0f921"
             ]
            ],
            "type": "contour"
           }
          ],
          "contourcarpet": [
           {
            "colorbar": {
             "outlinewidth": 0,
             "ticks": ""
            },
            "type": "contourcarpet"
           }
          ],
          "heatmap": [
           {
            "colorbar": {
             "outlinewidth": 0,
             "ticks": ""
            },
            "colorscale": [
             [
              0,
              "#0d0887"
             ],
             [
              0.1111111111111111,
              "#46039f"
             ],
             [
              0.2222222222222222,
              "#7201a8"
             ],
             [
              0.3333333333333333,
              "#9c179e"
             ],
             [
              0.4444444444444444,
              "#bd3786"
             ],
             [
              0.5555555555555556,
              "#d8576b"
             ],
             [
              0.6666666666666666,
              "#ed7953"
             ],
             [
              0.7777777777777778,
              "#fb9f3a"
             ],
             [
              0.8888888888888888,
              "#fdca26"
             ],
             [
              1,
              "#f0f921"
             ]
            ],
            "type": "heatmap"
           }
          ],
          "heatmapgl": [
           {
            "colorbar": {
             "outlinewidth": 0,
             "ticks": ""
            },
            "colorscale": [
             [
              0,
              "#0d0887"
             ],
             [
              0.1111111111111111,
              "#46039f"
             ],
             [
              0.2222222222222222,
              "#7201a8"
             ],
             [
              0.3333333333333333,
              "#9c179e"
             ],
             [
              0.4444444444444444,
              "#bd3786"
             ],
             [
              0.5555555555555556,
              "#d8576b"
             ],
             [
              0.6666666666666666,
              "#ed7953"
             ],
             [
              0.7777777777777778,
              "#fb9f3a"
             ],
             [
              0.8888888888888888,
              "#fdca26"
             ],
             [
              1,
              "#f0f921"
             ]
            ],
            "type": "heatmapgl"
           }
          ],
          "histogram": [
           {
            "marker": {
             "pattern": {
              "fillmode": "overlay",
              "size": 10,
              "solidity": 0.2
             }
            },
            "type": "histogram"
           }
          ],
          "histogram2d": [
           {
            "colorbar": {
             "outlinewidth": 0,
             "ticks": ""
            },
            "colorscale": [
             [
              0,
              "#0d0887"
             ],
             [
              0.1111111111111111,
              "#46039f"
             ],
             [
              0.2222222222222222,
              "#7201a8"
             ],
             [
              0.3333333333333333,
              "#9c179e"
             ],
             [
              0.4444444444444444,
              "#bd3786"
             ],
             [
              0.5555555555555556,
              "#d8576b"
             ],
             [
              0.6666666666666666,
              "#ed7953"
             ],
             [
              0.7777777777777778,
              "#fb9f3a"
             ],
             [
              0.8888888888888888,
              "#fdca26"
             ],
             [
              1,
              "#f0f921"
             ]
            ],
            "type": "histogram2d"
           }
          ],
          "histogram2dcontour": [
           {
            "colorbar": {
             "outlinewidth": 0,
             "ticks": ""
            },
            "colorscale": [
             [
              0,
              "#0d0887"
             ],
             [
              0.1111111111111111,
              "#46039f"
             ],
             [
              0.2222222222222222,
              "#7201a8"
             ],
             [
              0.3333333333333333,
              "#9c179e"
             ],
             [
              0.4444444444444444,
              "#bd3786"
             ],
             [
              0.5555555555555556,
              "#d8576b"
             ],
             [
              0.6666666666666666,
              "#ed7953"
             ],
             [
              0.7777777777777778,
              "#fb9f3a"
             ],
             [
              0.8888888888888888,
              "#fdca26"
             ],
             [
              1,
              "#f0f921"
             ]
            ],
            "type": "histogram2dcontour"
           }
          ],
          "mesh3d": [
           {
            "colorbar": {
             "outlinewidth": 0,
             "ticks": ""
            },
            "type": "mesh3d"
           }
          ],
          "parcoords": [
           {
            "line": {
             "colorbar": {
              "outlinewidth": 0,
              "ticks": ""
             }
            },
            "type": "parcoords"
           }
          ],
          "pie": [
           {
            "automargin": true,
            "type": "pie"
           }
          ],
          "scatter": [
           {
            "fillpattern": {
             "fillmode": "overlay",
             "size": 10,
             "solidity": 0.2
            },
            "type": "scatter"
           }
          ],
          "scatter3d": [
           {
            "line": {
             "colorbar": {
              "outlinewidth": 0,
              "ticks": ""
             }
            },
            "marker": {
             "colorbar": {
              "outlinewidth": 0,
              "ticks": ""
             }
            },
            "type": "scatter3d"
           }
          ],
          "scattercarpet": [
           {
            "marker": {
             "colorbar": {
              "outlinewidth": 0,
              "ticks": ""
             }
            },
            "type": "scattercarpet"
           }
          ],
          "scattergeo": [
           {
            "marker": {
             "colorbar": {
              "outlinewidth": 0,
              "ticks": ""
             }
            },
            "type": "scattergeo"
           }
          ],
          "scattergl": [
           {
            "marker": {
             "colorbar": {
              "outlinewidth": 0,
              "ticks": ""
             }
            },
            "type": "scattergl"
           }
          ],
          "scattermapbox": [
           {
            "marker": {
             "colorbar": {
              "outlinewidth": 0,
              "ticks": ""
             }
            },
            "type": "scattermapbox"
           }
          ],
          "scatterpolar": [
           {
            "marker": {
             "colorbar": {
              "outlinewidth": 0,
              "ticks": ""
             }
            },
            "type": "scatterpolar"
           }
          ],
          "scatterpolargl": [
           {
            "marker": {
             "colorbar": {
              "outlinewidth": 0,
              "ticks": ""
             }
            },
            "type": "scatterpolargl"
           }
          ],
          "scatterternary": [
           {
            "marker": {
             "colorbar": {
              "outlinewidth": 0,
              "ticks": ""
             }
            },
            "type": "scatterternary"
           }
          ],
          "surface": [
           {
            "colorbar": {
             "outlinewidth": 0,
             "ticks": ""
            },
            "colorscale": [
             [
              0,
              "#0d0887"
             ],
             [
              0.1111111111111111,
              "#46039f"
             ],
             [
              0.2222222222222222,
              "#7201a8"
             ],
             [
              0.3333333333333333,
              "#9c179e"
             ],
             [
              0.4444444444444444,
              "#bd3786"
             ],
             [
              0.5555555555555556,
              "#d8576b"
             ],
             [
              0.6666666666666666,
              "#ed7953"
             ],
             [
              0.7777777777777778,
              "#fb9f3a"
             ],
             [
              0.8888888888888888,
              "#fdca26"
             ],
             [
              1,
              "#f0f921"
             ]
            ],
            "type": "surface"
           }
          ],
          "table": [
           {
            "cells": {
             "fill": {
              "color": "#EBF0F8"
             },
             "line": {
              "color": "white"
             }
            },
            "header": {
             "fill": {
              "color": "#C8D4E3"
             },
             "line": {
              "color": "white"
             }
            },
            "type": "table"
           }
          ]
         },
         "layout": {
          "annotationdefaults": {
           "arrowcolor": "#2a3f5f",
           "arrowhead": 0,
           "arrowwidth": 1
          },
          "autotypenumbers": "strict",
          "coloraxis": {
           "colorbar": {
            "outlinewidth": 0,
            "ticks": ""
           }
          },
          "colorscale": {
           "diverging": [
            [
             0,
             "#8e0152"
            ],
            [
             0.1,
             "#c51b7d"
            ],
            [
             0.2,
             "#de77ae"
            ],
            [
             0.3,
             "#f1b6da"
            ],
            [
             0.4,
             "#fde0ef"
            ],
            [
             0.5,
             "#f7f7f7"
            ],
            [
             0.6,
             "#e6f5d0"
            ],
            [
             0.7,
             "#b8e186"
            ],
            [
             0.8,
             "#7fbc41"
            ],
            [
             0.9,
             "#4d9221"
            ],
            [
             1,
             "#276419"
            ]
           ],
           "sequential": [
            [
             0,
             "#0d0887"
            ],
            [
             0.1111111111111111,
             "#46039f"
            ],
            [
             0.2222222222222222,
             "#7201a8"
            ],
            [
             0.3333333333333333,
             "#9c179e"
            ],
            [
             0.4444444444444444,
             "#bd3786"
            ],
            [
             0.5555555555555556,
             "#d8576b"
            ],
            [
             0.6666666666666666,
             "#ed7953"
            ],
            [
             0.7777777777777778,
             "#fb9f3a"
            ],
            [
             0.8888888888888888,
             "#fdca26"
            ],
            [
             1,
             "#f0f921"
            ]
           ],
           "sequentialminus": [
            [
             0,
             "#0d0887"
            ],
            [
             0.1111111111111111,
             "#46039f"
            ],
            [
             0.2222222222222222,
             "#7201a8"
            ],
            [
             0.3333333333333333,
             "#9c179e"
            ],
            [
             0.4444444444444444,
             "#bd3786"
            ],
            [
             0.5555555555555556,
             "#d8576b"
            ],
            [
             0.6666666666666666,
             "#ed7953"
            ],
            [
             0.7777777777777778,
             "#fb9f3a"
            ],
            [
             0.8888888888888888,
             "#fdca26"
            ],
            [
             1,
             "#f0f921"
            ]
           ]
          },
          "colorway": [
           "#636efa",
           "#EF553B",
           "#00cc96",
           "#ab63fa",
           "#FFA15A",
           "#19d3f3",
           "#FF6692",
           "#B6E880",
           "#FF97FF",
           "#FECB52"
          ],
          "font": {
           "color": "#2a3f5f"
          },
          "geo": {
           "bgcolor": "white",
           "lakecolor": "white",
           "landcolor": "#E5ECF6",
           "showlakes": true,
           "showland": true,
           "subunitcolor": "white"
          },
          "hoverlabel": {
           "align": "left"
          },
          "hovermode": "closest",
          "mapbox": {
           "style": "light"
          },
          "paper_bgcolor": "white",
          "plot_bgcolor": "#E5ECF6",
          "polar": {
           "angularaxis": {
            "gridcolor": "white",
            "linecolor": "white",
            "ticks": ""
           },
           "bgcolor": "#E5ECF6",
           "radialaxis": {
            "gridcolor": "white",
            "linecolor": "white",
            "ticks": ""
           }
          },
          "scene": {
           "xaxis": {
            "backgroundcolor": "#E5ECF6",
            "gridcolor": "white",
            "gridwidth": 2,
            "linecolor": "white",
            "showbackground": true,
            "ticks": "",
            "zerolinecolor": "white"
           },
           "yaxis": {
            "backgroundcolor": "#E5ECF6",
            "gridcolor": "white",
            "gridwidth": 2,
            "linecolor": "white",
            "showbackground": true,
            "ticks": "",
            "zerolinecolor": "white"
           },
           "zaxis": {
            "backgroundcolor": "#E5ECF6",
            "gridcolor": "white",
            "gridwidth": 2,
            "linecolor": "white",
            "showbackground": true,
            "ticks": "",
            "zerolinecolor": "white"
           }
          },
          "shapedefaults": {
           "line": {
            "color": "#2a3f5f"
           }
          },
          "ternary": {
           "aaxis": {
            "gridcolor": "white",
            "linecolor": "white",
            "ticks": ""
           },
           "baxis": {
            "gridcolor": "white",
            "linecolor": "white",
            "ticks": ""
           },
           "bgcolor": "#E5ECF6",
           "caxis": {
            "gridcolor": "white",
            "linecolor": "white",
            "ticks": ""
           }
          },
          "title": {
           "x": 0.05
          },
          "xaxis": {
           "automargin": true,
           "gridcolor": "white",
           "linecolor": "white",
           "ticks": "",
           "title": {
            "standoff": 15
           },
           "zerolinecolor": "white",
           "zerolinewidth": 2
          },
          "yaxis": {
           "automargin": true,
           "gridcolor": "white",
           "linecolor": "white",
           "ticks": "",
           "title": {
            "standoff": 15
           },
           "zerolinecolor": "white",
           "zerolinewidth": 2
          }
         }
        },
        "title": {
         "text": "Average Salary and Inflation in Latvia, 2019–2023"
        },
        "width": 720,
        "xaxis": {
         "anchor": "y",
         "domain": [
          0,
          1
         ],
         "dtick": "M3",
         "tickformat": "%b\n%Y",
         "title": {}
        },
        "yaxis": {
         "anchor": "x",
         "domain": [
          0,
          1
         ],
         "ticksuffix": "%",
         "title": {
          "text": "Growth since January 2019"
         }
        }
       }
      }
     },
     "metadata": {},
     "output_type": "display_data"
    }
   ],
   "source": [
    "import plotly.express as px\n",
    "\n",
    "fig = px.line(\n",
    "    data,\n",
    "    'TIME',\n",
    "    ['salary_relative', 'cpi_relative'],\n",
    "    title=f\"Average Salary and Inflation in Latvia, {START_YEAR}–{END_YEAR-1}\"\n",
    ")\n",
    "fig.update_xaxes(\n",
    "    dtick=\"M3\",\n",
    "    tickformat=\"%b\\n%Y\")\n",
    "fig.update_yaxes(\n",
    "    ticksuffix=\"%\")\n",
    "fig.update_layout(\n",
    "    legend=dict(\n",
    "        yanchor=\"top\",\n",
    "        y=0.99,\n",
    "        xanchor=\"left\",\n",
    "        x=0.01,\n",
    "        title=None,\n",
    "    ),\n",
    "    width=720,\n",
    "    font_size=12,\n",
    "    margin={'l': 0, 't': 32, 'r': 10, 'b': 55},\n",
    "    xaxis_title=None,\n",
    "    yaxis_title=f'Growth since January {START_YEAR}')\n",
    "\n",
    "# Replace the label names.\n",
    "legend_names = {\n",
    "    'salary_relative': f'Average gross salary',\n",
    "    'cpi_relative': f'Inflation',\n",
    "}\n",
    "fig.for_each_trace(lambda t: t.update(name=legend_names[t.name],\n",
    "                                      legendgroup=legend_names[t.name],\n",
    "                                      hovertemplate=t.hovertemplate.replace(\n",
    "                                          t.name, legend_names[t.name])\n",
    "                                      )\n",
    "                   )\n",
    "\n",
    "fig.add_annotation(\n",
    "    xref=\"paper\",\n",
    "    yref=\"paper\",\n",
    "    x=-0.07,\n",
    "    y=-0.15,\n",
    "    text=f\"Data source: stat.gov.lv, tables {stat_salary.ids[-1]} and {stat_cpi.ids[-1]}\",\n",
    "    showarrow=False)\n",
    "\n",
    "# Allow saving in good quality.\n",
    "config = {\n",
    "  'toImageButtonOptions': {\n",
    "    'format': 'png', # one of png, svg, jpeg, webp\n",
    "    'filename': 'custom_image',\n",
    "    'scale':6 # Multiply title/legend/axis/canvas sizes by this factor\n",
    "  }\n",
    "}\n",
    "\n",
    "fig.show(config=config)"
   ]
  }
 ],
 "metadata": {
  "kernelspec": {
   "display_name": ".venv",
   "language": "python",
   "name": "python3"
  },
  "language_info": {
   "codemirror_mode": {
    "name": "ipython",
    "version": 3
   },
   "file_extension": ".py",
   "mimetype": "text/x-python",
   "name": "python",
   "nbconvert_exporter": "python",
   "pygments_lexer": "ipython3",
   "version": "3.12.0"
  }
 },
 "nbformat": 4,
 "nbformat_minor": 2
}
